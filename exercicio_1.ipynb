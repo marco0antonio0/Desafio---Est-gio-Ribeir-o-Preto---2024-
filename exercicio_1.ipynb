{
  "cells": [
    {
      "cell_type": "markdown",
      "metadata": {
        "id": "dwXmdMnAw4GO"
      },
      "source": [
        "**1) Observe o trecho de código abaixo:**\n",
        "\n",
        "int INDICE = 13, SOMA = 0, K = 0;\n",
        "\n",
        "enquanto K < INDICE faça\n",
        "\n",
        "{\n",
        "\n",
        "K = K + 1;\n",
        "\n",
        "SOMA = SOMA + K;\n",
        "\n",
        "}\n",
        "\n",
        "imprimir(SOMA);\n",
        "\n",
        "\n",
        "\n",
        "Ao final do processamento, qual será o valor da variável SOMA?\n"
      ]
    },
    {
      "cell_type": "code",
      "execution_count": 1,
      "metadata": {
        "colab": {
          "base_uri": "https://localhost:8080/"
        },
        "id": "9HXJzYCMwmZY",
        "outputId": "b8e38654-60d9-468e-a693-b61f124f89da"
      },
      "outputs": [
        {
          "name": "stdout",
          "output_type": "stream",
          "text": [
            "91\n"
          ]
        }
      ],
      "source": [
        "INDICE = 13\n",
        "SOMA = 0\n",
        "K = 0\n",
        "\n",
        "while K < INDICE:\n",
        "    K = K + 1\n",
        "    SOMA = SOMA + K\n",
        "\n",
        "print(SOMA)\n"
      ]
    },
    {
      "cell_type": "markdown",
      "metadata": {
        "id": "I5roltrmxBQf"
      },
      "source": [
        "2) Dado a sequência de Fibonacci, onde se inicia por 0 e 1 e o próximo valor sempre será a soma dos 2 valores anteriores (exemplo: 0, 1, 1, 2, 3, 5, 8, 13, 21, 34...), escreva um programa na linguagem que desejar onde, informado um número, ele calcule a sequência de Fibonacci e retorne uma mensagem avisando se o número informado pertence ou não a sequência.\n",
        "\n",
        "\n",
        "\n",
        "IMPORTANTE:\n",
        "\n",
        "Esse número pode ser informado através de qualquer entrada de sua preferência ou pode ser previamente definido no código;"
      ]
    },
    {
      "cell_type": "code",
      "execution_count": 5,
      "metadata": {
        "colab": {
          "base_uri": "https://localhost:8080/"
        },
        "id": "9XRzGtLOwtYv",
        "outputId": "83bdab86-6ac7-495e-b136-35febfe1c708"
      },
      "outputs": [
        {
          "name": "stdout",
          "output_type": "stream",
          "text": [
            "[0, 1, 1, 2, 3, 5, 8, 13, 21, 34]\n"
          ]
        }
      ],
      "source": [
        "def fibonacci(n):\n",
        "    sequence = [0, 1]\n",
        "    while len(sequence) < n:\n",
        "        next_number = sequence[-1] + sequence[-2]\n",
        "        sequence.append(next_number)\n",
        "    return sequence\n",
        "\n",
        "n = 10\n",
        "result = fibonacci(n)\n",
        "print(result)\n",
        "\n"
      ]
    },
    {
      "cell_type": "markdown",
      "metadata": {
        "id": "4OgvG_xSxP4i"
      },
      "source": [
        "3) Descubra a lógica e complete o próximo elemento:\n",
        "\n",
        "\n",
        "\n",
        "a) 1, 3, 5, 7, ___\n",
        "\n",
        "b) 2, 4, 8, 16, 32, 64, ____\n",
        "\n",
        "c) 0, 1, 4, 9, 16, 25, 36, ____\n",
        "\n",
        "d) 4, 16, 36, 64, ____\n",
        "\n",
        "e) 1, 1, 2, 3, 5, 8, ____\n",
        "\n",
        "f) 2,10, 12, 16, 17, 18, 19, ____"
      ]
    },
    {
      "cell_type": "markdown",
      "metadata": {
        "id": "4HNmW6wqySH-"
      },
      "source": [
        "RES: \n",
        "\n",
        "a) 1, 3, 5, 7, 9\n",
        "\n",
        "b) 2, 4, 8, 16, 32, 64, 128\n",
        "\n",
        "c) 0, 1, 4, 9, 16, 25, 36, 49\n",
        "\n",
        "d) 4, 16, 36, 64, 100\n",
        "\n",
        "e) 1, 1, 2, 3, 5, 8, 13\n",
        "\n",
        "f) 2, 10, 12, 16, 17, 18, 19, 20"
      ]
    },
    {
      "cell_type": "markdown",
      "metadata": {
        "id": "aHMRxce-xFkh"
      },
      "source": [
        "4) Você está em uma sala com três interruptores, cada um conectado a uma lâmpada em uma sala diferente. Você não pode ver as lâmpadas da sala em que está, mas pode ligar e desligar os interruptores quantas vezes quiser. Seu objetivo é descobrir qual interruptor controla qual lâmpada.\n",
        "\n",
        "Como você faria para descobrir, usando apenas duas idas até uma das salas das lâmpadas, qual interruptor controla cada lâmpada?"
      ]
    },
    {
      "cell_type": "markdown",
      "metadata": {
        "id": "6zRjf8JGyjKc"
      },
      "source": [
        "RES: \n",
        "\n",
        "Para descobrir qual interruptor controla cada lâmpada com apenas duas idas até uma das salas das lâmpadas, você pode seguir este procedimento:\n",
        "\n",
        "Primeira ida:\n",
        "\n",
        "Ligue o primeiro interruptor e espere alguns minutos.\n",
        "Desligue o primeiro interruptor e ligue o segundo interruptor.\n",
        "Segunda ida:\n",
        "\n",
        "Entre na sala.\n",
        "Se uma lâmpada estiver acesa, ela está conectada ao segundo interruptor.\n",
        "Se a lâmpada estiver desligada e estiver quente, ela está conectada ao primeiro interruptor.\n",
        "Se a lâmpada estiver desligada e não estiver quente, ela está conectada ao terceiro interruptor."
      ]
    },
    {
      "cell_type": "markdown",
      "metadata": {
        "id": "JibGrEAlxKoD"
      },
      "source": [
        "5) Escreva um programa que inverta os caracteres de um string.\n",
        "\n",
        "\n",
        "IMPORTANTE:\n",
        "\n",
        "a) Essa string pode ser informada através de qualquer entrada de sua preferência ou pode ser previamente definida no código;\n",
        "\n",
        "b) Evite usar funções prontas, como, por exemplo, reverse;\n"
      ]
    },
    {
      "cell_type": "code",
      "execution_count": 6,
      "metadata": {
        "colab": {
          "base_uri": "https://localhost:8080/"
        },
        "id": "DFPutMP7xKKi",
        "outputId": "eeded367-e717-490c-e8c6-ef4bb8184652"
      },
      "outputs": [
        {
          "name": "stdout",
          "output_type": "stream",
          "text": [
            "Digite uma string: ola\n",
            "String original: ola\n",
            "String invertida: alo\n"
          ]
        }
      ],
      "source": [
        "def inverter_string(s):\n",
        "    inverted = ''\n",
        "    for i in range(len(s) - 1, -1, -1):\n",
        "        inverted += s[i]\n",
        "    return inverted\n",
        "\n",
        "# Exemplo de uso\n",
        "string = input(\"Digite uma string: \")\n",
        "print(\"String original:\", string)\n",
        "print(\"String invertida:\", inverter_string(string))"
      ]
    }
  ],
  "metadata": {
    "colab": {
      "provenance": []
    },
    "kernelspec": {
      "display_name": "Python 3",
      "name": "python3"
    },
    "language_info": {
      "name": "python"
    }
  },
  "nbformat": 4,
  "nbformat_minor": 0
}
